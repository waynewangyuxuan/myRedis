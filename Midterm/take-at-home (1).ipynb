{
 "cells": [
  {
   "cell_type": "markdown",
   "metadata": {},
   "source": [
    "# Midterm - Spring 2023\n",
    "\n",
    "## Problem 1: Take-at-home  (45 points total)\n",
    "\n",
    "You are applying for a position at the data science team of USDA and you are given data associated with determining appropriate parasite treatment of canines. The suggested treatment options are determined based on a **logistic regression** model that predicts if the canine is infected with a parasite. \n",
    "\n",
    "The data is given in the site: https://data.world/ehales/grls-parasite-study/workspace/file?filename=CBC_data.csv  and more specifically in the CBC_data.csv file. Login using you University Google account to access the data and the description that includes a paper on the study (**you dont need to read the paper to solve this problem**). Your target variable $y$ column is titled `parasite_status`. \n",
    "\n",
    "\n"
   ]
  },
  {
   "cell_type": "markdown",
   "metadata": {},
   "source": [
    "### Question 1 - Feature Engineering (5 points)\n",
    "\n",
    "Write the posterior probability expressions for logistic regression for the problem you are given to solve."
   ]
  },
  {
   "cell_type": "markdown",
   "metadata": {},
   "source": [
    "$$p(y=1| \\mathbf{x}, \\mathbf w)= \\frac{1}{1+e^{-w^Tx}}$$ \n",
    "\n",
    "$$p(y=0| \\mathbf{x}, \\mathbf w)= 1- \\frac{1}{1+e^{-w^Tx}} $$ "
   ]
  },
  {
   "cell_type": "markdown",
   "metadata": {},
   "source": [
    "\n",
    "\n",
    "### Question 2 - Decision Boundary (5 points)\n",
    "\n",
    "Write the expression for the decision boundary assuming that $p(y=1)=p(y=0)$. The decision boundary is the line that separates the two classes.\n",
    "\n",
    "\n",
    "\n"
   ]
  },
  {
   "cell_type": "markdown",
   "metadata": {},
   "source": [
    "$$ \\frac{1}{1+e^{-w^Tx}} = 1- \\frac{1}{1+e^{-w^Tx}} $$\n",
    "$$  \\frac{2}{1+e^{-w^Tx}} = 1$$\n",
    "$$ 2 = 1(1+e^{-w^Tx}) $$\n",
    "$$ 1 = e^{-w^Tx} $$\n",
    "$$ ln1 = -w^Tx    $$\n",
    "$$ w^Tx = 0 $$"
   ]
  },
  {
   "cell_type": "markdown",
   "metadata": {},
   "source": [
    "\n",
    "\n",
    "### Question 3 - Loss function (5 points)\n",
    "\n",
    "Write the expression of the loss as a function of $\\mathbf w$ that makes sense for you to use in this problem. \n",
    "\n",
    "NOTE: The loss will be a function that will include this function: \n",
    "\n",
    "$$\\sigma(a) = \\frac{1}{1+e^{-a}}$$\n",
    "\n"
   ]
  },
  {
   "cell_type": "markdown",
   "metadata": {},
   "source": [
    "$$L_{CE} = ln(\\Pi_{i=0}^N \\sigma(w^Tx)^{y^{(i)}}(1-\\sigma(w^Tx))^{1-y^{(i)}})$$$$ = \\Sigma_{i=0}^N ({y^{(i)}}ln(\\sigma(w^Tx))+(1-y^{(i)})ln((1-\\sigma(w^Tx)))$$, where N is the number of samples."
   ]
  },
  {
   "cell_type": "markdown",
   "metadata": {},
   "source": [
    "\n",
    "### Question 4 - Gradient (5 points)\n",
    "\n",
    "Write the expression of the gradient of the loss with respect to the parameters - show all your work.\n",
    "\n"
   ]
  },
  {
   "cell_type": "markdown",
   "metadata": {},
   "source": [
    "$$ \\nabla_\\mathbf w L_{CE} = \\frac{\\partial L_{CE}}{\\partial w} = \\Sigma_{i=0}^N ({y^{(i)}}ln(\\sigma(w^Tx))+(1-y^{(i)})ln((1-\\sigma(w^Tx))) $$\n",
    "$$\n",
    "= \\Sigma_{i=0}^N ({y^{(i)}}\\frac{\\partial}{\\partial w}ln(\\sigma(w^Tx))+(1-y^{(i)})\\frac{\\partial}{\\partial w}(1-ln(\\sigma(w^Tx)))\n",
    "$$\n",
    "\n",
    "$$\n",
    "= \\Sigma_{i=0}^N (({y^{(i)}})\\frac{1}{\\sigma(w^Tx)}+(1-y^{(i)})\\frac{1}{1-\\sigma(w^Tx)})\\frac{\\partial}{\\partial w}(\\sigma(w^Tx))\n",
    "$$\n",
    "\n",
    "$$\n",
    "= \\Sigma_{i=0}^N (({y^{(i)}})\\frac{1}{\\sigma(w^Tx)}+(1-y^{(i)})\\frac{1}{1-\\sigma(w^Tx)}))({\\sigma(w^Tx)})(1-{\\sigma(w^Tx)})\\frac{\\partial}{\\partial w}(w^Tx)\n",
    "$$\n",
    "\n",
    "$$\n",
    "= \\Sigma_{i=0}^N (({y^{(i)}})(1-{\\sigma(w^Tx)})+(1-y^{(i)})({\\sigma(w^Tx)})x\n",
    "$$\n",
    "\n",
    "$$\n",
    "= \\Sigma_{i=0}^N ({y^{(i)}}-{y^{(i)}}\\sigma(w^Tx)-\\sigma(w^Tx)+{y^{(i)}}\\sigma(w^Tx))x\n",
    "$$\n",
    "\n",
    "$$\n",
    "= \\Sigma_{i=0}^N ({y^{(i)}}-\\sigma(w^Tx))x\n",
    "$$\n",
    "\n"
   ]
  },
  {
   "cell_type": "markdown",
   "metadata": {},
   "source": [
    "### Question 5 - Imbalanced dataset (10 points)\n",
    "\n",
    "You are now told that in the dataset  \n",
    "\n",
    "$$p(y=0) >> p(y=1)$$\n",
    "\n",
    "Can you comment if the accuracy of Logistic Regression will be affected by such imbalance?\n",
    "\n"
   ]
  },
  {
   "cell_type": "markdown",
   "metadata": {},
   "source": [
    "The accuracy of logistic regression will be extrememly close to 1----it will show that the model is extremely accurate. This is because the model will be biased towarads the majority class, y=0, that it tends to label everything as $y=0$. For example, in a distribution where $p(y=0)=99\\%$ and $ p(y=1) = 1\\%$, the classifier might to something very extreme, such as mark every sample as $y=0$. This classifier is seriously damaged, because it cannot distinguish between the case that $y=0$ and $y=1$, where, in many real world applications, distinguishing the minority is all that matters. However, if we measure its behavior using accuracy, we observe that it is not penalized because essentially it labeled $99\\%$ of inputs correctly. Therefore, high accuracy of a classifier from an imbalanced dataset could be very misleading about whether the classifier is doing its job properly."
   ]
  },
  {
   "cell_type": "markdown",
   "metadata": {},
   "source": [
    "\n",
    "### Question 6 - SGD (15 points)\n",
    "\n",
    "The interviewer was impressed with your answers and wants to test your programming skills. \n",
    "\n",
    "1. Use the dataset to train a logistic regressor that will predict the target variable $y$. \n",
    "\n",
    " 2. Report the harmonic mean of precision (p) and recall (r) i.e the  [metric called $F_1$ score](https://en.wikipedia.org/wiki/F-score) that is calculated as shown below using a test dataset that is 20% of each group. Plot the $F_1$ score vs the iteration number  $t$. \n",
    "\n",
    "$$F_1 = \\frac{2}{r^{-1} + p^{-1}}$$\n",
    "\n",
    "Your code includes hyperparameter optimization of the learning rate and mini batch size. Please learn about cross validation which is a splitting strategy for tuning models [here](https://scikit-learn.org/stable/modules/cross_validation.html).\n",
    "\n",
    "You are allowed to use any library you want to code this problem.\n",
    "\n"
   ]
  },
  {
   "cell_type": "code",
   "execution_count": 237,
   "metadata": {},
   "outputs": [
    {
     "name": "stderr",
     "output_type": "stream",
     "text": [
      "/Users/waynewang/opt/anaconda3/lib/python3.8/site-packages/sklearn/linear_model/_stochastic_gradient.py:696: ConvergenceWarning: Maximum number of iteration reached before convergence. Consider increasing max_iter to improve the fit.\n",
      "  warnings.warn(\n",
      "/Users/waynewang/opt/anaconda3/lib/python3.8/site-packages/sklearn/linear_model/_stochastic_gradient.py:696: ConvergenceWarning: Maximum number of iteration reached before convergence. Consider increasing max_iter to improve the fit.\n",
      "  warnings.warn(\n",
      "/Users/waynewang/opt/anaconda3/lib/python3.8/site-packages/sklearn/linear_model/_stochastic_gradient.py:696: ConvergenceWarning: Maximum number of iteration reached before convergence. Consider increasing max_iter to improve the fit.\n",
      "  warnings.warn(\n",
      "/Users/waynewang/opt/anaconda3/lib/python3.8/site-packages/sklearn/linear_model/_stochastic_gradient.py:696: ConvergenceWarning: Maximum number of iteration reached before convergence. Consider increasing max_iter to improve the fit.\n",
      "  warnings.warn(\n",
      "/Users/waynewang/opt/anaconda3/lib/python3.8/site-packages/sklearn/linear_model/_stochastic_gradient.py:696: ConvergenceWarning: Maximum number of iteration reached before convergence. Consider increasing max_iter to improve the fit.\n",
      "  warnings.warn(\n",
      "/Users/waynewang/opt/anaconda3/lib/python3.8/site-packages/sklearn/linear_model/_stochastic_gradient.py:696: ConvergenceWarning: Maximum number of iteration reached before convergence. Consider increasing max_iter to improve the fit.\n",
      "  warnings.warn(\n",
      "/Users/waynewang/opt/anaconda3/lib/python3.8/site-packages/sklearn/linear_model/_stochastic_gradient.py:696: ConvergenceWarning: Maximum number of iteration reached before convergence. Consider increasing max_iter to improve the fit.\n",
      "  warnings.warn(\n",
      "/Users/waynewang/opt/anaconda3/lib/python3.8/site-packages/sklearn/linear_model/_stochastic_gradient.py:696: ConvergenceWarning: Maximum number of iteration reached before convergence. Consider increasing max_iter to improve the fit.\n",
      "  warnings.warn(\n",
      "/Users/waynewang/opt/anaconda3/lib/python3.8/site-packages/sklearn/linear_model/_stochastic_gradient.py:696: ConvergenceWarning: Maximum number of iteration reached before convergence. Consider increasing max_iter to improve the fit.\n",
      "  warnings.warn(\n",
      "/Users/waynewang/opt/anaconda3/lib/python3.8/site-packages/sklearn/linear_model/_stochastic_gradient.py:696: ConvergenceWarning: Maximum number of iteration reached before convergence. Consider increasing max_iter to improve the fit.\n",
      "  warnings.warn(\n"
     ]
    },
    {
     "data": {
      "image/png": "[encoded data removed]",
      "text/plain": [
       "<Figure size 640x480 with 1 Axes>"
      ]
     },
     "metadata": {},
     "output_type": "display_data"
    },
    {
     "name": "stdout",
     "output_type": "stream",
     "text": [
      "The F1 score is :  0.9348914858096828\n"
     ]
    }
   ],
   "source": [
    "#importing the necessary libraries\n",
    "import pandas as pd\n",
    "import numpy as np\n",
    "from sklearn.linear_model import SGDClassifier\n",
    "from sklearn.metrics import f1_score\n",
    "from sklearn.model_selection import KFold\n",
    "import matplotlib.pyplot as plt\n",
    "\n",
    "#read data\n",
    "df = pd.read_csv('CBC_data.csv')\n",
    "count = df.shape[0]\n",
    "ind = 0\n",
    "while ind < count:\n",
    "    if np.isnan(df.loc[ind][8]):\n",
    "        count -=1\n",
    "        df = df.drop(index=ind)\n",
    "    ind += 1\n",
    "    \n",
    "#select featuer and target feature\n",
    "x = df[['RBC','HGB']]\n",
    "y = df['PARASITE_STATUS']\n",
    "X = x.to_numpy()\n",
    "Y = y.to_numpy()\n",
    "#encode categorial data\n",
    "for i in range(Y.shape[0]):\n",
    "    if (Y[i] == 'Negative'):\n",
    "        Y[i] = 0\n",
    "    else:\n",
    "        Y[i] = 1\n",
    "Y = Y.astype('int')\n",
    "total = X.shape[0]\n",
    "\n",
    "\n",
    "#split training and test sets\n",
    "X_train = X[:int(total*0.8),:]\n",
    "X_test = X[int(total*0.8):,:]\n",
    "Y_train = Y[:int(total*0.8)]\n",
    "Y_test = Y[int(total*0.8):]\n",
    "\n",
    "\n",
    "\n",
    "model = SGDClassifier()\n",
    "\n",
    "#learning rate and mini-batch size to try\n",
    "learning_rates = [0.0001,0.002,0.004,0.01,0.02,0.04,0.1,0.2,0.4,1]\n",
    "mb_counts = [5,10,15]\n",
    "results = []\n",
    "\n",
    "#\n",
    "#hyperparameter optimization\n",
    "for rate in learning_rates:\n",
    "    model.set_params(learning_rate = 'constant', eta0 = rate)\n",
    "    for count in mb_counts:\n",
    "        model.fit(X,Y)\n",
    "        scores = cross_val_score(model, X_train, Y_train, cv=count,scoring ='f1')\n",
    "        score = sum(scores)/count\n",
    "        results.append((score, rate, count))\n",
    "# pick the best learning rate/mini-batch size combination\n",
    "best_rate = 0\n",
    "best_split = 0\n",
    "best_score = 0\n",
    "for i in results:\n",
    "    if i[0] > best_score:\n",
    "        best_score = i[0]\n",
    "        best_rate = i[1]\n",
    "        best_split = i[2]\n",
    "\n",
    "\n",
    "\n",
    "all_scores = []\n",
    "#use the best parameters to calculate F1 score\n",
    "for iteration in range(2000):\n",
    "        model.set_params(max_iter = iteration + 1, learning_rate = 'constant', eta0 = best_rate)\n",
    "        model.fit(X_train,Y_train)\n",
    "\n",
    "        Y_pred = model.predict(X_test)\n",
    "        p = model.score(X_test, Y_test)\n",
    "        r = (np.sum(Y_test == Y_pred))/len(Y_test)\n",
    "        F1 = 2/(1/p + 1/r)\n",
    "        all_scores.append(F1)\n",
    "\n",
    "        \n",
    "        \n",
    "\n",
    "# plot the f1 score as a function of time.       \n",
    "plt.scatter([x for x in range(2000)],all_scores)\n",
    "plt.xlabel('Iteration Number')\n",
    "plt.ylabel('F1 Score')\n",
    "plt.show()\n",
    "\n",
    "#print the F1 score in the last iteration\n",
    "print(\"The F1 score is : \",all_scores[-1])\n",
    "        \n",
    "        \n",
    "\n",
    "\n",
    "\n",
    "\n",
    "        \n",
    "            \n",
    "        \n",
    "        \n",
    "\n",
    "\n",
    "\n"
   ]
  },
  {
   "cell_type": "code",
   "execution_count": null,
   "metadata": {},
   "outputs": [],
   "source": []
  },
  {
   "cell_type": "code",
   "execution_count": null,
   "metadata": {},
   "outputs": [],
   "source": [
    "\n",
    "\n",
    "\n"
   ]
  },
  {
   "cell_type": "code",
   "execution_count": null,
   "metadata": {},
   "outputs": [],
   "source": []
  }
 ],
 "metadata": {
  "kernelspec": {
   "display_name": "Python 3 (ipykernel)",
   "language": "python",
   "name": "python3"
  },
  "language_info": {
   "codemirror_mode": {
    "name": "ipython",
    "version": 3
   },
   "file_extension": ".py",
   "mimetype": "text/x-python",
   "name": "python",
   "nbconvert_exporter": "python",
   "pygments_lexer": "ipython3",
   "version": "3.8.8"
  },
  "vscode": {
   "interpreter": {
    "hash": "62556f7a043365a66e0918c892755cfafede529a87e97207556f006a109bade4"
   }
  }
 },
 "nbformat": 4,
 "nbformat_minor": 2
}
